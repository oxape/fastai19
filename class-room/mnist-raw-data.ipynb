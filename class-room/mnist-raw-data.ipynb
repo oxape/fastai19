{
 "cells": [
  {
   "cell_type": "code",
   "execution_count": 1,
   "metadata": {},
   "outputs": [],
   "source": [
    "import torch"
   ]
  },
  {
   "cell_type": "code",
   "execution_count": 2,
   "metadata": {},
   "outputs": [],
   "source": [
    "from fastai.vision import *"
   ]
  },
  {
   "cell_type": "code",
   "execution_count": 26,
   "metadata": {},
   "outputs": [],
   "source": [
    "import struct\n",
    "\n",
    "class MnistDataset(torch.utils.data.Dataset):\n",
    "    \"\"\"Mnist dataset.\"\"\"\n",
    "\n",
    "    def __init__(self, images, labels, transform=None):\n",
    "        self.images = images\n",
    "        self.labels = labels\n",
    "        self.transform = transform\n",
    "\n",
    "    def __len__(self):\n",
    "        return len(self.images)\n",
    "\n",
    "    def __getitem__(self, idx):\n",
    "        if torch.is_tensor(idx):\n",
    "            idx = idx.tolist()\n",
    "        return self.images[idx], self.labels[idx]\n",
    "    \n",
    "    @classmethod\n",
    "    def load(cls, images_path, labels_path, valid_percent=0.25, transform=None):\n",
    "        images = None\n",
    "        labels = None\n",
    "        with open(images_path, 'rb') as f:\n",
    "            fb_data = f.read()\n",
    "\n",
    "            offset = 0\n",
    "            fmt_header = '>iiii'    # 以大端法读取4个 unsinged int32\n",
    "            magic_number, num_images, num_rows, num_cols = struct.unpack_from(fmt_header, fb_data, offset)\n",
    "            offset += struct.calcsize(fmt_header)\n",
    "            fmt_image = '>' + str(num_rows * num_cols) + 'B'\n",
    "            images = np.empty((num_images, 1, num_rows, num_cols)) # 补一个channel=1\n",
    "            for i in range(num_images):\n",
    "                im = struct.unpack_from(fmt_image, fb_data, offset)\n",
    "                images[i] = np.array(im).reshape((num_rows, num_cols))\n",
    "                offset += struct.calcsize(fmt_image)\n",
    "            \n",
    "        with open(labels_path, 'rb') as f:\n",
    "            fb_data = f.read()\n",
    "\n",
    "            offset = 0\n",
    "            fmt_header = '>ii'    # 以大端法读取2个 unsinged int32\n",
    "            magic_number, num_labels = struct.unpack_from(fmt_header, fb_data, offset)\n",
    "            offset += struct.calcsize(fmt_header)\n",
    "            fmt_image = '>' + str(num_labels) + 'B'\n",
    "            images = np.empty((num_images, 1, num_rows, num_cols)) # 补一个channel=1\n",
    "            labels = struct.unpack_from(fmt_image, fb_data, offset)\n",
    "        \n",
    "        num_of_train = round(len(images)*(1-valid_percent))\n",
    "        train_ds = cls(images[:num_of_train], labels[:num_of_train], transform)\n",
    "        valid_ds = cls(images[num_of_train:], labels[num_of_train:], transform)\n",
    "        return train_ds, valid_ds"
   ]
  },
  {
   "cell_type": "code",
   "execution_count": 27,
   "metadata": {},
   "outputs": [],
   "source": [
    "path = Path('../../data/mnist-raw/')"
   ]
  },
  {
   "cell_type": "code",
   "execution_count": 28,
   "metadata": {},
   "outputs": [
    {
     "data": {
      "text/plain": [
       "[PosixPath('../../data/mnist-raw/train-images-idx3-ubyte'),\n",
       " PosixPath('../../data/mnist-raw/train-images-idx3-ubyte.gz'),\n",
       " PosixPath('../../data/mnist-raw/train-labels-idx1-ubyte.gz'),\n",
       " PosixPath('../../data/mnist-raw/train-labels-idx1-ubyte')]"
      ]
     },
     "execution_count": 28,
     "metadata": {},
     "output_type": "execute_result"
    }
   ],
   "source": [
    "path.ls()"
   ]
  },
  {
   "cell_type": "code",
   "execution_count": 29,
   "metadata": {},
   "outputs": [],
   "source": [
    "dataset = MnistDataset.load(path/'train-images-idx3-ubyte', path/'train-labels-idx1-ubyte')"
   ]
  },
  {
   "cell_type": "code",
   "execution_count": 30,
   "metadata": {},
   "outputs": [
    {
     "data": {
      "text/plain": [
       "(<__main__.MnistDataset at 0x7febf0f77fd0>,\n",
       " <__main__.MnistDataset at 0x7febf0f771d0>)"
      ]
     },
     "execution_count": 30,
     "metadata": {},
     "output_type": "execute_result"
    }
   ],
   "source": [
    "dataset"
   ]
  },
  {
   "cell_type": "code",
   "execution_count": 31,
   "metadata": {},
   "outputs": [],
   "source": [
    "dataloaders = {x: torch.utils.data.DataLoader(dataset[idx], batch_size=4,\n",
    "                                             shuffle=True, num_workers=0)\n",
    "              for idx, x in enumerate(['train', 'val'])}"
   ]
  },
  {
   "cell_type": "code",
   "execution_count": 32,
   "metadata": {},
   "outputs": [],
   "source": [
    "inputs, classes = next(iter(dataloaders['train']))"
   ]
  },
  {
   "cell_type": "code",
   "execution_count": 33,
   "metadata": {},
   "outputs": [
    {
     "data": {
      "text/plain": [
       "torch.Size([4, 1, 28, 28])"
      ]
     },
     "execution_count": 33,
     "metadata": {},
     "output_type": "execute_result"
    }
   ],
   "source": [
    "inputs.shape"
   ]
  },
  {
   "cell_type": "code",
   "execution_count": 34,
   "metadata": {},
   "outputs": [
    {
     "data": {
      "text/plain": [
       "torch.Size([4])"
      ]
     },
     "execution_count": 34,
     "metadata": {},
     "output_type": "execute_result"
    }
   ],
   "source": [
    "classes.shape"
   ]
  },
  {
   "cell_type": "markdown",
   "metadata": {},
   "source": [
    "# 总结\n",
    "\n",
    "custom transform提上日程"
   ]
  },
  {
   "cell_type": "code",
   "execution_count": null,
   "metadata": {},
   "outputs": [],
   "source": []
  }
 ],
 "metadata": {
  "kernelspec": {
   "display_name": "Python 3",
   "language": "python",
   "name": "python3"
  },
  "language_info": {
   "codemirror_mode": {
    "name": "ipython",
    "version": 3
   },
   "file_extension": ".py",
   "mimetype": "text/x-python",
   "name": "python",
   "nbconvert_exporter": "python",
   "pygments_lexer": "ipython3",
   "version": "3.7.7"
  }
 },
 "nbformat": 4,
 "nbformat_minor": 4
}
