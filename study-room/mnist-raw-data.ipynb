{
 "cells": [
  {
   "cell_type": "code",
   "execution_count": 1,
   "metadata": {},
   "outputs": [],
   "source": [
    "import torch\n",
    "import torchvision"
   ]
  },
  {
   "cell_type": "code",
   "execution_count": 2,
   "metadata": {},
   "outputs": [],
   "source": [
    "from fastai.vision import *"
   ]
  },
  {
   "cell_type": "code",
   "execution_count": 135,
   "metadata": {},
   "outputs": [],
   "source": [
    "import struct\n",
    "\n",
    "class MnistDataset(torch.utils.data.Dataset):\n",
    "    \"\"\"Mnist dataset.\"\"\"\n",
    "\n",
    "    def __init__(self, images, labels, transform=None):\n",
    "        self.images = images\n",
    "        self.labels = labels\n",
    "        self.transform = transform\n",
    "\n",
    "    def __len__(self):\n",
    "        return len(self.images)\n",
    "\n",
    "    def __getitem__(self, idx):\n",
    "        if torch.is_tensor(idx):\n",
    "            idx = idx.tolist()\n",
    "        sample, target = self.images[idx], self.labels[idx]\n",
    "        sample = np.divide(sample, 255.0)\n",
    "        if self.transform is not None:\n",
    "            sample = self.transform(sample)\n",
    "        return sample, target\n",
    "    \n",
    "    @classmethod\n",
    "    def load(cls, images_path, labels_path, valid_percent=0.25, transform=None, need_stats=False):\n",
    "        images = None\n",
    "        labels = None\n",
    "        with open(images_path, 'rb') as f:\n",
    "            fb_data = f.read()\n",
    "\n",
    "            offset = 0\n",
    "            fmt_header = '>iiii'    # 以大端法读取4个 unsinged int32\n",
    "            magic_number, num_images, num_rows, num_cols = struct.unpack_from(fmt_header, fb_data, offset)\n",
    "            offset += struct.calcsize(fmt_header)\n",
    "            fmt_image = '>' + str(num_rows * num_cols) + 'B'\n",
    "            images = np.empty((num_images, num_rows, num_cols), dtype=np.float) # 不需要补channel transforms.ToTensor会补\n",
    "            for i in range(num_images):\n",
    "                im = struct.unpack_from(fmt_image, fb_data, offset)\n",
    "                images[i] = np.array(im).reshape((num_rows, num_cols))\n",
    "                offset += struct.calcsize(fmt_image)\n",
    "            \n",
    "        with open(labels_path, 'rb') as f:\n",
    "            fb_data = f.read()\n",
    "\n",
    "            offset = 0\n",
    "            fmt_header = '>ii'    # 以大端法读取2个 unsinged int32\n",
    "            magic_number, num_labels = struct.unpack_from(fmt_header, fb_data, offset)\n",
    "            offset += struct.calcsize(fmt_header)\n",
    "            fmt_image = '>' + str(num_labels) + 'B'\n",
    "            labels = struct.unpack_from(fmt_image, fb_data, offset)\n",
    "            labels = np.array(labels)\n",
    "        \n",
    "        num_of_train = round(images.shape[0]*(1-valid_percent))\n",
    "        train_ds = cls(images[:num_of_train], labels[:num_of_train], transform)\n",
    "        if num_of_train != images.shape[0]: \n",
    "            valid_ds = cls(images[num_of_train:], labels[num_of_train:], transform) \n",
    "        else:\n",
    "            valid_ds = None\n",
    "        result = {'train': train_ds, 'valid': valid_ds}\n",
    "        if need_stats:\n",
    "            mean = images.mean()\n",
    "            std = images.std()\n",
    "            result['stats'] = [mean, std]\n",
    "        return result"
   ]
  },
  {
   "cell_type": "code",
   "execution_count": 136,
   "metadata": {},
   "outputs": [],
   "source": [
    "path = Path('../../data/mnist-raw/')"
   ]
  },
  {
   "cell_type": "code",
   "execution_count": 137,
   "metadata": {},
   "outputs": [
    {
     "data": {
      "text/plain": [
       "[PosixPath('../../data/mnist-raw/train-images-idx3-ubyte'),\n",
       " PosixPath('../../data/mnist-raw/train-images-idx3-ubyte.gz'),\n",
       " PosixPath('../../data/mnist-raw/train-labels-idx1-ubyte.gz'),\n",
       " PosixPath('../../data/mnist-raw/train-labels-idx1-ubyte')]"
      ]
     },
     "execution_count": 137,
     "metadata": {},
     "output_type": "execute_result"
    }
   ],
   "source": [
    "path.ls()"
   ]
  },
  {
   "cell_type": "markdown",
   "metadata": {},
   "source": [
    "# 计算统计指标\n",
    "fastai库中也有mnist的统计指标mnist_stats"
   ]
  },
  {
   "cell_type": "code",
   "execution_count": 160,
   "metadata": {},
   "outputs": [
    {
     "name": "stdout",
     "output_type": "stream",
     "text": [
      "mean: 0.1306604762738429, std: 0.30810780385646264\n"
     ]
    }
   ],
   "source": [
    "datasets = MnistDataset.load(path/'train-images-idx3-ubyte', path/'train-labels-idx1-ubyte', \n",
    "                             valid_percent=0.25, \n",
    "                             transform=torchvision.transforms.ToTensor(), \n",
    "                             need_stats=True)\n",
    "print(f'mean: {datasets[\"stats\"][0]/255.0}, std: {datasets[\"stats\"][1]/255.0}')"
   ]
  },
  {
   "cell_type": "code",
   "execution_count": 161,
   "metadata": {},
   "outputs": [
    {
     "name": "stdout",
     "output_type": "stream",
     "text": [
      "tensor([0.1310], dtype=torch.float64) tensor([0.3086], dtype=torch.float64)\n"
     ]
    }
   ],
   "source": [
    "loader = torch.utils.data.DataLoader(datasets['train'], \n",
    "                                     batch_size=8,\n",
    "                                     shuffle=False, \n",
    "                                     num_workers=0)\n",
    "\n",
    "mean = 0.0\n",
    "for images, _ in loader:\n",
    "    batch_samples = images.size(0) \n",
    "    images = images.view(batch_samples, images.size(1), -1)\n",
    "    mean += images.mean(2).sum(0)\n",
    "mean = mean / len(loader.dataset)\n",
    "\n",
    "'''\n",
    "for images, _ in loader:\n",
    "    batch_samples = images.size(0) \n",
    "    images = images.view(batch_samples, images.size(1), -1)\n",
    "    mean += images.mean((0, 2))\n",
    "mean = mean / len(loader.dataset)*8.0 # 由于for循环已经把每个batch的mean计算过了所以应该是mean/(len/batch_size)，等同于mean/len*batch_size\n",
    "'''\n",
    "\n",
    "var = 0.0\n",
    "for images, _ in loader:\n",
    "    batch_samples = images.size(0)\n",
    "    images = images.view(batch_samples, images.size(1), -1)\n",
    "    var += ((images - mean.unsqueeze(1))**2).sum([0,2])\n",
    "std = torch.sqrt(var / (len(loader.dataset)*28*28))\n",
    "print(mean, std)"
   ]
  },
  {
   "cell_type": "markdown",
   "metadata": {},
   "source": [
    "# 准备数据"
   ]
  },
  {
   "cell_type": "code",
   "execution_count": 198,
   "metadata": {},
   "outputs": [],
   "source": [
    "data_transforms = {\n",
    "    'train': torchvision.transforms.Compose([\n",
    "        torchvision.transforms.ToTensor(),\n",
    "        torchvision.transforms.Normalize([0.131], [0.308])\n",
    "    ]),\n",
    "    'valid': torchvision.transforms.Compose([\n",
    "        torchvision.transforms.ToTensor(),\n",
    "        torchvision.transforms.Normalize([0.131], [0.308])\n",
    "    ]),\n",
    "}"
   ]
  },
  {
   "cell_type": "code",
   "execution_count": 199,
   "metadata": {},
   "outputs": [],
   "source": [
    "datasets = MnistDataset.load(path/'train-images-idx3-ubyte', path/'train-labels-idx1-ubyte', \n",
    "                             valid_percent=0.25,\n",
    "                             transform=data_transforms['train'])"
   ]
  },
  {
   "cell_type": "code",
   "execution_count": 200,
   "metadata": {},
   "outputs": [],
   "source": [
    "dataloaders = {x: torch.utils.data.DataLoader(datasets[x], batch_size=4,\n",
    "                                             shuffle=True, num_workers=0)\n",
    "              for x in ['train', 'valid']}"
   ]
  },
  {
   "cell_type": "code",
   "execution_count": 201,
   "metadata": {},
   "outputs": [],
   "source": [
    "inputs, classes = next(iter(dataloaders['train']))"
   ]
  },
  {
   "cell_type": "markdown",
   "metadata": {},
   "source": [
    "# 可视化"
   ]
  },
  {
   "cell_type": "code",
   "execution_count": 202,
   "metadata": {},
   "outputs": [
    {
     "name": "stdout",
     "output_type": "stream",
     "text": [
      "(2, 2)\n"
     ]
    },
    {
     "data": {
      "image/png": "[encoded data removed]",
      "text/plain": [
       "<Figure size 360x360 with 4 Axes>"
      ]
     },
     "metadata": {
      "needs_background": "light"
     },
     "output_type": "display_data"
    }
   ],
   "source": [
    "fig, axs = plt.subplots(2, 2, figsize=(5, 5))\n",
    "print(axs.shape)\n",
    "for i, axi in enumerate(axs.flat):\n",
    "    data = inputs[i][0]*0.308+0.131 #denormalize\n",
    "    axi.imshow(data, cmap=plt.cm.gray)\n",
    "    axi.set_title(f'{classes[i]}')\n",
    "plt.tight_layout() #调整子图间距"
   ]
  },
  {
   "cell_type": "markdown",
   "metadata": {},
   "source": [
    "# 使用fastai"
   ]
  },
  {
   "cell_type": "code",
   "execution_count": null,
   "metadata": {},
   "outputs": [],
   "source": [
    "class WrapDataset:\n",
    "    __init__(self)"
   ]
  },
  {
   "cell_type": "code",
   "execution_count": 203,
   "metadata": {},
   "outputs": [],
   "source": [
    "train_x = ItemList(datasets['train'])\n",
    "train_y = ItemList(datasets['train'])\n",
    "train_ll = LabelList(train_x, train_y)"
   ]
  },
  {
   "cell_type": "code",
   "execution_count": 192,
   "metadata": {},
   "outputs": [],
   "source": [
    "valid_x = ItemList(datasets['valid'][0])\n",
    "valid_y = ItemList(datasets['valid'][1])\n",
    "valid_ll = LabelList(train_x, train_y)"
   ]
  },
  {
   "cell_type": "code",
   "execution_count": 196,
   "metadata": {},
   "outputs": [
    {
     "name": "stdout",
     "output_type": "stream",
     "text": [
      "You can deactivate this warning by passing `no_check=True`.\n"
     ]
    },
    {
     "name": "stderr",
     "output_type": "stream",
     "text": [
      "/opt/miniconda3/envs/fastai/lib/python3.7/site-packages/fastai/basic_data.py:248: UserWarning: Your training dataloader is empty, you have only 2 items in your training set.\n",
      "                 Your batch size is 16, you should lower it.\n",
      "  Your batch size is {self.train_dl.batch_size}, you should lower it.\"\"\")\n"
     ]
    }
   ],
   "source": [
    "data = LabelLists(path, train_ll, valid_ll).databunch(bs=16, num_workers=0)"
   ]
  },
  {
   "cell_type": "code",
   "execution_count": 197,
   "metadata": {},
   "outputs": [
    {
     "data": {
      "text/plain": [
       "2"
      ]
     },
     "execution_count": 197,
     "metadata": {},
     "output_type": "execute_result"
    }
   ],
   "source": [
    "len(train_x)"
   ]
  },
  {
   "cell_type": "markdown",
   "metadata": {},
   "source": [
    "# 使用pytorch"
   ]
  },
  {
   "cell_type": "markdown",
   "metadata": {},
   "source": [
    "# 总结\n",
    "\n",
    "custom transform提上日程"
   ]
  },
  {
   "cell_type": "code",
   "execution_count": null,
   "metadata": {},
   "outputs": [],
   "source": []
  }
 ],
 "metadata": {
  "kernelspec": {
   "display_name": "Python 3",
   "language": "python",
   "name": "python3"
  },
  "language_info": {
   "codemirror_mode": {
    "name": "ipython",
    "version": 3
   },
   "file_extension": ".py",
   "mimetype": "text/x-python",
   "name": "python",
   "nbconvert_exporter": "python",
   "pygments_lexer": "ipython3",
   "version": "3.7.7"
  }
 },
 "nbformat": 4,
 "nbformat_minor": 4
}
