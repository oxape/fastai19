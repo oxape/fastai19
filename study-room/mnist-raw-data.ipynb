{
 "cells": [
  {
   "cell_type": "code",
   "execution_count": 1,
   "metadata": {},
   "outputs": [],
   "source": [
    "import torch\n",
    "import torchvision"
   ]
  },
  {
   "cell_type": "code",
   "execution_count": 2,
   "metadata": {},
   "outputs": [],
   "source": [
    "from fastai.vision import *"
   ]
  },
  {
   "cell_type": "code",
   "execution_count": 87,
   "metadata": {},
   "outputs": [],
   "source": [
    "import struct\n",
    "\n",
    "class MnistDataset(torch.utils.data.Dataset):\n",
    "    \"\"\"Mnist dataset.\"\"\"\n",
    "\n",
    "    def __init__(self, images, labels, transform=None):\n",
    "        self.images = images\n",
    "        self.labels = labels\n",
    "        self.transform = transform\n",
    "\n",
    "    def __len__(self):\n",
    "        return len(self.images)\n",
    "\n",
    "    def __getitem__(self, idx):\n",
    "        if torch.is_tensor(idx):\n",
    "            idx = idx.tolist()\n",
    "        sample, target = self.images[idx], self.labels[idx]\n",
    "        sample = np.divide(sample, 255.0)\n",
    "        if self.transform is not None:\n",
    "            sample = self.transform(sample)\n",
    "        return sample, target\n",
    "    \n",
    "    @classmethod\n",
    "    def load(cls, images_path, labels_path, valid_percent=0.25, transform=None, need_stats=False):\n",
    "        images = None\n",
    "        labels = None\n",
    "        with open(images_path, 'rb') as f:\n",
    "            fb_data = f.read()\n",
    "\n",
    "            offset = 0\n",
    "            fmt_header = '>iiii'    # 以大端法读取4个 unsinged int32\n",
    "            magic_number, num_images, num_rows, num_cols = struct.unpack_from(fmt_header, fb_data, offset)\n",
    "            offset += struct.calcsize(fmt_header)\n",
    "            fmt_image = '>' + str(num_rows * num_cols) + 'B'\n",
    "            images = np.empty((num_images, num_rows, num_cols), dtype=np.float32) # 不需要补channel transforms.ToTensor会补\n",
    "            for i in range(num_images):\n",
    "                im = struct.unpack_from(fmt_image, fb_data, offset)\n",
    "                images[i] = np.array(im).reshape((num_rows, num_cols))\n",
    "                offset += struct.calcsize(fmt_image)\n",
    "            \n",
    "        with open(labels_path, 'rb') as f:\n",
    "            fb_data = f.read()\n",
    "\n",
    "            offset = 0\n",
    "            fmt_header = '>ii'    # 以大端法读取2个 unsinged int32\n",
    "            magic_number, num_labels = struct.unpack_from(fmt_header, fb_data, offset)\n",
    "            offset += struct.calcsize(fmt_header)\n",
    "            fmt_image = '>' + str(num_labels) + 'B'\n",
    "            labels = struct.unpack_from(fmt_image, fb_data, offset)\n",
    "            labels = np.array(labels)\n",
    "        \n",
    "        num_of_train = round(images.shape[0]*(1-valid_percent))\n",
    "        train_ds = cls(images[:num_of_train], labels[:num_of_train], transform)\n",
    "        if num_of_train != images.shape[0]: \n",
    "            valid_ds = cls(images[num_of_train:], labels[num_of_train:], transform) \n",
    "        else:\n",
    "            valid_ds = None\n",
    "        result = {'train': train_ds, 'valid': valid_ds}\n",
    "        if need_stats:\n",
    "            mean = images.mean()\n",
    "            std = images.std()\n",
    "            result['stats'] = [mean, std]\n",
    "        return result"
   ]
  },
  {
   "cell_type": "code",
   "execution_count": 88,
   "metadata": {},
   "outputs": [],
   "source": [
    "path = Path('../../data/mnist-raw/')"
   ]
  },
  {
   "cell_type": "code",
   "execution_count": 89,
   "metadata": {},
   "outputs": [
    {
     "data": {
      "text/plain": [
       "[PosixPath('../../data/mnist-raw/models'),\n",
       " PosixPath('../../data/mnist-raw/train-images-idx3-ubyte'),\n",
       " PosixPath('../../data/mnist-raw/train-images-idx3-ubyte.gz'),\n",
       " PosixPath('../../data/mnist-raw/train-labels-idx1-ubyte.gz'),\n",
       " PosixPath('../../data/mnist-raw/train-labels-idx1-ubyte')]"
      ]
     },
     "execution_count": 89,
     "metadata": {},
     "output_type": "execute_result"
    }
   ],
   "source": [
    "path.ls()"
   ]
  },
  {
   "cell_type": "markdown",
   "metadata": {},
   "source": [
    "# 计算统计指标\n",
    "fastai库中也有mnist的统计指标mnist_stats"
   ]
  },
  {
   "cell_type": "code",
   "execution_count": 93,
   "metadata": {},
   "outputs": [
    {
     "name": "stdout",
     "output_type": "stream",
     "text": [
      "mean: 0.130660576913871, std: 0.3081076229319853\n"
     ]
    }
   ],
   "source": [
    "datasets = MnistDataset.load(path/'train-images-idx3-ubyte', path/'train-labels-idx1-ubyte', \n",
    "                             valid_percent=0.25, \n",
    "                             transform=torchvision.transforms.ToTensor(), \n",
    "                             need_stats=True)\n",
    "print(f'mean: {datasets[\"stats\"][0]/255.0}, std: {datasets[\"stats\"][1]/255.0}')"
   ]
  },
  {
   "cell_type": "code",
   "execution_count": 94,
   "metadata": {},
   "outputs": [],
   "source": [
    "inputs, targets = next(iter(datasets['train']))"
   ]
  },
  {
   "cell_type": "code",
   "execution_count": 95,
   "metadata": {},
   "outputs": [
    {
     "data": {
      "text/plain": [
       "torch.float32"
      ]
     },
     "execution_count": 95,
     "metadata": {},
     "output_type": "execute_result"
    }
   ],
   "source": [
    "inputs.dtype"
   ]
  },
  {
   "cell_type": "code",
   "execution_count": 96,
   "metadata": {},
   "outputs": [
    {
     "name": "stdout",
     "output_type": "stream",
     "text": [
      "tensor([0.1310]) tensor([0.3086])\n"
     ]
    }
   ],
   "source": [
    "loader = torch.utils.data.DataLoader(datasets['train'], \n",
    "                                     batch_size=8,\n",
    "                                     shuffle=False, \n",
    "                                     num_workers=0)\n",
    "\n",
    "mean = 0.0\n",
    "for images, _ in loader:\n",
    "    batch_samples = images.size(0) \n",
    "    images = images.view(batch_samples, images.size(1), -1)\n",
    "    mean += images.mean(2).sum(0)\n",
    "mean = mean / len(loader.dataset)\n",
    "\n",
    "'''\n",
    "for images, _ in loader:\n",
    "    batch_samples = images.size(0) \n",
    "    images = images.view(batch_samples, images.size(1), -1)\n",
    "    mean += images.mean((0, 2))\n",
    "mean = mean / len(loader.dataset)*8.0 # 由于for循环已经把每个batch的mean计算过了所以应该是mean/(len/batch_size)，等同于mean/len*batch_size\n",
    "'''\n",
    "\n",
    "var = 0.0\n",
    "for images, _ in loader:\n",
    "    batch_samples = images.size(0)\n",
    "    images = images.view(batch_samples, images.size(1), -1)\n",
    "    var += ((images - mean.unsqueeze(1))**2).sum([0,2])\n",
    "std = torch.sqrt(var / (len(loader.dataset)*28*28))\n",
    "print(mean, std)"
   ]
  },
  {
   "cell_type": "markdown",
   "metadata": {},
   "source": [
    "# 准备数据"
   ]
  },
  {
   "cell_type": "code",
   "execution_count": 97,
   "metadata": {},
   "outputs": [],
   "source": [
    "data_transforms = {\n",
    "    'train': torchvision.transforms.Compose([\n",
    "        torchvision.transforms.ToTensor(),\n",
    "        torchvision.transforms.Normalize([0.131], [0.308])\n",
    "    ]),\n",
    "    'valid': torchvision.transforms.Compose([\n",
    "        torchvision.transforms.ToTensor(),\n",
    "        torchvision.transforms.Normalize([0.131], [0.308])\n",
    "    ]),\n",
    "}"
   ]
  },
  {
   "cell_type": "code",
   "execution_count": 98,
   "metadata": {},
   "outputs": [],
   "source": [
    "datasets = MnistDataset.load(path/'train-images-idx3-ubyte', path/'train-labels-idx1-ubyte', \n",
    "                             valid_percent=0.25,\n",
    "                             transform=data_transforms['train'])"
   ]
  },
  {
   "cell_type": "code",
   "execution_count": 99,
   "metadata": {},
   "outputs": [],
   "source": [
    "dataloaders = {x: torch.utils.data.DataLoader(datasets[x], batch_size=4,\n",
    "                                             shuffle=True, num_workers=0)\n",
    "              for x in ['train', 'valid']}"
   ]
  },
  {
   "cell_type": "code",
   "execution_count": 100,
   "metadata": {},
   "outputs": [],
   "source": [
    "inputs, targets = next(iter(dataloaders['train']))"
   ]
  },
  {
   "cell_type": "code",
   "execution_count": 101,
   "metadata": {},
   "outputs": [
    {
     "data": {
      "text/plain": [
       "torch.float32"
      ]
     },
     "execution_count": 101,
     "metadata": {},
     "output_type": "execute_result"
    }
   ],
   "source": [
    "inputs.dtype"
   ]
  },
  {
   "cell_type": "markdown",
   "metadata": {},
   "source": [
    "# 可视化"
   ]
  },
  {
   "cell_type": "code",
   "execution_count": 102,
   "metadata": {},
   "outputs": [
    {
     "name": "stdout",
     "output_type": "stream",
     "text": [
      "(2, 2)\n"
     ]
    },
    {
     "data": {
      "image/png": "[encoded data removed]",
      "text/plain": [
       "<Figure size 360x360 with 4 Axes>"
      ]
     },
     "metadata": {
      "needs_background": "light"
     },
     "output_type": "display_data"
    }
   ],
   "source": [
    "fig, axs = plt.subplots(2, 2, figsize=(5, 5))\n",
    "print(axs.shape)\n",
    "for i, axi in enumerate(axs.flat):\n",
    "    data = inputs[i][0]*0.308+0.131 #denormalize\n",
    "    axi.imshow(data, cmap=plt.cm.gray)\n",
    "    axi.set_title(f'{targets[i]}')\n",
    "plt.tight_layout() #调整子图间距"
   ]
  },
  {
   "cell_type": "markdown",
   "metadata": {},
   "source": [
    "# 使用fastai"
   ]
  },
  {
   "cell_type": "code",
   "execution_count": 103,
   "metadata": {},
   "outputs": [],
   "source": [
    "class WrapInput:\n",
    "    def __init__(self, x):\n",
    "        self.x = x\n",
    "    \n",
    "    def __len__(self):\n",
    "        return len(self.x)\n",
    "\n",
    "    def __getitem__(self, idx):\n",
    "        return self.x[idx][0]\n",
    "    \n",
    "class WrapTarget:\n",
    "    def __init__(self, y):\n",
    "        self.y = y\n",
    "    \n",
    "    def __len__(self):\n",
    "        return len(self.y)\n",
    "\n",
    "    def __getitem__(self, idx):\n",
    "        return self.y[idx][1]"
   ]
  },
  {
   "cell_type": "code",
   "execution_count": 104,
   "metadata": {},
   "outputs": [],
   "source": [
    "class MyBlockModel(nn.Module):\n",
    "\n",
    "    def __init__(self, num_classes=2, init_weights=True, batch_norm=False):\n",
    "        super(MyBlockModel, self).__init__()\n",
    "        #cfgs = [16, 'M', 32, 'M'] #下面层数更多的网络同样的训练轮次和动态学习率比这个错误率更低\n",
    "        cfgs = [16, 16, 'M', 32, 32, 'M', 32, 32, 'M']\n",
    "        layers = []\n",
    "        in_channels = 1\n",
    "        for v in cfgs:\n",
    "            if v == 'M':\n",
    "                layers += [nn.MaxPool2d(kernel_size=2, stride=2)]\n",
    "            else:\n",
    "                conv2d = nn.Conv2d(in_channels, v, kernel_size=3, padding=1)\n",
    "                if batch_norm:\n",
    "                    layers += [conv2d, nn.BatchNorm2d(v), nn.ReLU(inplace=True)]\n",
    "                else:\n",
    "                    layers += [conv2d, nn.ReLU(inplace=True)]\n",
    "                in_channels = v\n",
    "        self.features = nn.Sequential(*layers)\n",
    "        self.avgpool = nn.AdaptiveAvgPool2d((7, 7))\n",
    "        self.classifier = nn.Sequential(\n",
    "            nn.Linear(32 * 7 * 7, 256),\n",
    "            nn.ReLU(True),\n",
    "            nn.Dropout(),\n",
    "            nn.Linear(256, 256), #多加了这一层的作用感觉是训练轮次和损失的曲线更平滑了\n",
    "            nn.ReLU(True),\n",
    "            nn.Dropout(),\n",
    "            nn.Linear(256, num_classes),\n",
    "        )\n",
    "        if init_weights:\n",
    "            self._initialize_weights()\n",
    "\n",
    "    def forward(self, x):\n",
    "        x = self.features(x)\n",
    "        x = self.avgpool(x)\n",
    "        x = torch.flatten(x, 1)\n",
    "        x = self.classifier(x)\n",
    "        return x\n",
    "\n",
    "    def _initialize_weights(self):\n",
    "        for m in self.modules():\n",
    "            if isinstance(m, nn.Conv2d):\n",
    "                nn.init.kaiming_normal_(m.weight, mode='fan_out', nonlinearity='relu')\n",
    "                if m.bias is not None:\n",
    "                    nn.init.constant_(m.bias, 0)\n",
    "            elif isinstance(m, nn.BatchNorm2d):\n",
    "                nn.init.constant_(m.weight, 1)\n",
    "                nn.init.constant_(m.bias, 0)\n",
    "            elif isinstance(m, nn.Linear):\n",
    "                nn.init.normal_(m.weight, 0, 0.01)\n",
    "                nn.init.constant_(m.bias, 0)"
   ]
  },
  {
   "cell_type": "code",
   "execution_count": 105,
   "metadata": {},
   "outputs": [],
   "source": [
    "classes = ['0', '1', '2', '3', '4', '5', '6', '7', '8', '9']\n",
    "train_ds = datasets['train']\n",
    "train_x = ItemList(WrapInput(train_ds))\n",
    "train_y = CategoryList(WrapTarget(train_ds), classes)\n",
    "train_y.c2i = {v:i for i, v in enumerate(classes)}\n",
    "train_ll = LabelList(train_x, train_y)"
   ]
  },
  {
   "cell_type": "code",
   "execution_count": 106,
   "metadata": {},
   "outputs": [],
   "source": [
    "valid_ds = datasets['valid']\n",
    "valid_x = ItemList(WrapInput(valid_ds))\n",
    "valid_y = CategoryList(WrapTarget(valid_ds), classes)\n",
    "valid_y.c2i = {v:i for i, v in enumerate(classes)}\n",
    "valid_ll = LabelList(valid_x, valid_y)"
   ]
  },
  {
   "cell_type": "code",
   "execution_count": 107,
   "metadata": {},
   "outputs": [],
   "source": [
    "data = LabelLists(path, train_ll, valid_ll).databunch(bs=16, num_workers=0)"
   ]
  },
  {
   "cell_type": "code",
   "execution_count": 108,
   "metadata": {},
   "outputs": [],
   "source": [
    "def Block(pretrained=False, batch_norm=True, **kwargs):\n",
    "    model = MyBlockModel(batch_norm=batch_norm, **kwargs)\n",
    "    return model"
   ]
  },
  {
   "cell_type": "code",
   "execution_count": 109,
   "metadata": {},
   "outputs": [],
   "source": [
    "learner = cnn_learner(data, Block, metrics=error_rate)"
   ]
  },
  {
   "cell_type": "code",
   "execution_count": 111,
   "metadata": {},
   "outputs": [
    {
     "data": {
      "text/html": [
       "\n",
       "    <div>\n",
       "        <style>\n",
       "            /* Turns off some styling */\n",
       "            progress {\n",
       "                /* gets rid of default border in Firefox and Opera. */\n",
       "                border: none;\n",
       "                /* Needs to be in here for Safari polyfill so background images work as expected. */\n",
       "                background-size: auto;\n",
       "            }\n",
       "            .progress-bar-interrupted, .progress-bar-interrupted::-webkit-progress-bar {\n",
       "                background: #F44336;\n",
       "            }\n",
       "        </style>\n",
       "      <progress value='0' class='' max='1', style='width:300px; height:20px; vertical-align: middle;'></progress>\n",
       "      0.00% [0/1 00:00<00:00]\n",
       "    </div>\n",
       "    \n",
       "<table border=\"1\" class=\"dataframe\">\n",
       "  <thead>\n",
       "    <tr style=\"text-align: left;\">\n",
       "      <th>epoch</th>\n",
       "      <th>train_loss</th>\n",
       "      <th>valid_loss</th>\n",
       "      <th>error_rate</th>\n",
       "      <th>time</th>\n",
       "    </tr>\n",
       "  </thead>\n",
       "  <tbody>\n",
       "  </tbody>\n",
       "</table><p>\n",
       "\n",
       "    <div>\n",
       "        <style>\n",
       "            /* Turns off some styling */\n",
       "            progress {\n",
       "                /* gets rid of default border in Firefox and Opera. */\n",
       "                border: none;\n",
       "                /* Needs to be in here for Safari polyfill so background images work as expected. */\n",
       "                background-size: auto;\n",
       "            }\n",
       "            .progress-bar-interrupted, .progress-bar-interrupted::-webkit-progress-bar {\n",
       "                background: #F44336;\n",
       "            }\n",
       "        </style>\n",
       "      <progress value='88' class='' max='2812', style='width:300px; height:20px; vertical-align: middle;'></progress>\n",
       "      3.13% [88/2812 00:02<01:18 7.3729]\n",
       "    </div>\n",
       "    "
      ],
      "text/plain": [
       "<IPython.core.display.HTML object>"
      ]
     },
     "metadata": {},
     "output_type": "display_data"
    },
    {
     "name": "stdout",
     "output_type": "stream",
     "text": [
      "LR Finder is complete, type {learner_name}.recorder.plot() to see the graph.\n"
     ]
    },
    {
     "data": {
      "image/png": "[encoded data removed]",
      "text/plain": [
       "<Figure size 432x288 with 1 Axes>"
      ]
     },
     "metadata": {
      "needs_background": "light"
     },
     "output_type": "display_data"
    }
   ],
   "source": [
    "learner.lr_find()\n",
    "learner.recorder.plot()"
   ]
  },
  {
   "cell_type": "code",
   "execution_count": 112,
   "metadata": {},
   "outputs": [
    {
     "data": {
      "text/html": [
       "<table border=\"1\" class=\"dataframe\">\n",
       "  <thead>\n",
       "    <tr style=\"text-align: left;\">\n",
       "      <th>epoch</th>\n",
       "      <th>train_loss</th>\n",
       "      <th>valid_loss</th>\n",
       "      <th>error_rate</th>\n",
       "      <th>time</th>\n",
       "    </tr>\n",
       "  </thead>\n",
       "  <tbody>\n",
       "    <tr>\n",
       "      <td>0</td>\n",
       "      <td>1.069622</td>\n",
       "      <td>0.668782</td>\n",
       "      <td>0.222067</td>\n",
       "      <td>01:31</td>\n",
       "    </tr>\n",
       "    <tr>\n",
       "      <td>1</td>\n",
       "      <td>0.859686</td>\n",
       "      <td>0.466044</td>\n",
       "      <td>0.145133</td>\n",
       "      <td>01:32</td>\n",
       "    </tr>\n",
       "    <tr>\n",
       "      <td>2</td>\n",
       "      <td>0.839475</td>\n",
       "      <td>0.362041</td>\n",
       "      <td>0.106333</td>\n",
       "      <td>01:34</td>\n",
       "    </tr>\n",
       "    <tr>\n",
       "      <td>3</td>\n",
       "      <td>0.690169</td>\n",
       "      <td>0.314473</td>\n",
       "      <td>0.097067</td>\n",
       "      <td>01:34</td>\n",
       "    </tr>\n",
       "    <tr>\n",
       "      <td>4</td>\n",
       "      <td>0.531280</td>\n",
       "      <td>0.225559</td>\n",
       "      <td>0.070333</td>\n",
       "      <td>01:32</td>\n",
       "    </tr>\n",
       "    <tr>\n",
       "      <td>5</td>\n",
       "      <td>0.393513</td>\n",
       "      <td>0.199907</td>\n",
       "      <td>0.063067</td>\n",
       "      <td>01:33</td>\n",
       "    </tr>\n",
       "    <tr>\n",
       "      <td>6</td>\n",
       "      <td>0.314502</td>\n",
       "      <td>0.151866</td>\n",
       "      <td>0.048133</td>\n",
       "      <td>01:32</td>\n",
       "    </tr>\n",
       "    <tr>\n",
       "      <td>7</td>\n",
       "      <td>0.294883</td>\n",
       "      <td>0.145823</td>\n",
       "      <td>0.046333</td>\n",
       "      <td>01:31</td>\n",
       "    </tr>\n",
       "  </tbody>\n",
       "</table>"
      ],
      "text/plain": [
       "<IPython.core.display.HTML object>"
      ]
     },
     "metadata": {},
     "output_type": "display_data"
    }
   ],
   "source": [
    "learner.fit_one_cycle(8, slice(3e-3, 2e-2))"
   ]
  },
  {
   "cell_type": "code",
   "execution_count": 121,
   "metadata": {},
   "outputs": [
    {
     "name": "stdout",
     "output_type": "stream",
     "text": [
      "(Category tensor(5), tensor(5), tensor([8.6738e-07, 1.2050e-03, 8.6873e-05, 7.0512e-03, 4.7054e-07, 9.9139e-01,\n",
      "        8.8277e-05, 3.4908e-06, 1.6970e-04, 4.4232e-07]))\n",
      "(Category tensor(0), tensor(0), tensor([9.9946e-01, 1.5649e-05, 1.1474e-05, 1.5822e-06, 3.7103e-06, 7.0109e-07,\n",
      "        4.8856e-04, 9.0911e-07, 5.5815e-06, 1.5135e-05]))\n",
      "(Category tensor(8), tensor(8), tensor([1.0312e-02, 9.2104e-04, 1.1161e-03, 7.8361e-05, 4.3731e-04, 7.0909e-05,\n",
      "        1.6985e-04, 5.4443e-04, 9.8166e-01, 4.6898e-03]))\n",
      "(Category tensor(3), tensor(3), tensor([1.4718e-06, 8.1182e-05, 5.4879e-05, 9.9836e-01, 1.1727e-05, 1.2881e-03,\n",
      "        2.4850e-07, 8.0418e-05, 8.6411e-06, 1.1781e-04]))\n"
     ]
    }
   ],
   "source": [
    "for e in inputs:\n",
    "    print(learner.predict(e))"
   ]
  },
  {
   "cell_type": "code",
   "execution_count": 122,
   "metadata": {},
   "outputs": [],
   "source": [
    "from torchsummary import summary"
   ]
  },
  {
   "cell_type": "code",
   "execution_count": 123,
   "metadata": {},
   "outputs": [
    {
     "name": "stdout",
     "output_type": "stream",
     "text": [
      "----------------------------------------------------------------\n",
      "        Layer (type)               Output Shape         Param #\n",
      "================================================================\n",
      "            Conv2d-1           [-1, 16, 28, 28]             160\n",
      "       BatchNorm2d-2           [-1, 16, 28, 28]              32\n",
      "              ReLU-3           [-1, 16, 28, 28]               0\n",
      "            Conv2d-4           [-1, 16, 28, 28]           2,320\n",
      "       BatchNorm2d-5           [-1, 16, 28, 28]              32\n",
      "              ReLU-6           [-1, 16, 28, 28]               0\n",
      "         MaxPool2d-7           [-1, 16, 14, 14]               0\n",
      "            Conv2d-8           [-1, 32, 14, 14]           4,640\n",
      "       BatchNorm2d-9           [-1, 32, 14, 14]              64\n",
      "             ReLU-10           [-1, 32, 14, 14]               0\n",
      "           Conv2d-11           [-1, 32, 14, 14]           9,248\n",
      "      BatchNorm2d-12           [-1, 32, 14, 14]              64\n",
      "             ReLU-13           [-1, 32, 14, 14]               0\n",
      "        MaxPool2d-14             [-1, 32, 7, 7]               0\n",
      "           Conv2d-15             [-1, 32, 7, 7]           9,248\n",
      "      BatchNorm2d-16             [-1, 32, 7, 7]              64\n",
      "             ReLU-17             [-1, 32, 7, 7]               0\n",
      "           Conv2d-18             [-1, 32, 7, 7]           9,248\n",
      "      BatchNorm2d-19             [-1, 32, 7, 7]              64\n",
      "             ReLU-20             [-1, 32, 7, 7]               0\n",
      "        MaxPool2d-21             [-1, 32, 3, 3]               0\n",
      "AdaptiveMaxPool2d-22             [-1, 32, 1, 1]               0\n",
      "AdaptiveAvgPool2d-23             [-1, 32, 1, 1]               0\n",
      "AdaptiveConcatPool2d-24             [-1, 64, 1, 1]               0\n",
      "          Flatten-25                   [-1, 64]               0\n",
      "      BatchNorm1d-26                   [-1, 64]             128\n",
      "          Dropout-27                   [-1, 64]               0\n",
      "           Linear-28                  [-1, 512]          33,280\n",
      "             ReLU-29                  [-1, 512]               0\n",
      "      BatchNorm1d-30                  [-1, 512]           1,024\n",
      "          Dropout-31                  [-1, 512]               0\n",
      "           Linear-32                   [-1, 10]           5,130\n",
      "================================================================\n",
      "Total params: 74,746\n",
      "Trainable params: 39,882\n",
      "Non-trainable params: 34,864\n",
      "----------------------------------------------------------------\n",
      "Input size (MB): 0.00\n",
      "Forward/backward pass size (MB): 0.99\n",
      "Params size (MB): 0.29\n",
      "Estimated Total Size (MB): 1.28\n",
      "----------------------------------------------------------------\n"
     ]
    }
   ],
   "source": [
    "summary(learner.model, (1, 28, 28))"
   ]
  },
  {
   "cell_type": "markdown",
   "metadata": {},
   "source": [
    "# 使用pytorch"
   ]
  },
  {
   "cell_type": "markdown",
   "metadata": {},
   "source": [
    "# 总结\n",
    "\n",
    "custom transform提上日程"
   ]
  },
  {
   "cell_type": "code",
   "execution_count": null,
   "metadata": {},
   "outputs": [],
   "source": []
  }
 ],
 "metadata": {
  "kernelspec": {
   "display_name": "Python 3",
   "language": "python",
   "name": "python3"
  },
  "language_info": {
   "codemirror_mode": {
    "name": "ipython",
    "version": 3
   },
   "file_extension": ".py",
   "mimetype": "text/x-python",
   "name": "python",
   "nbconvert_exporter": "python",
   "pygments_lexer": "ipython3",
   "version": "3.7.7"
  }
 },
 "nbformat": 4,
 "nbformat_minor": 4
}
