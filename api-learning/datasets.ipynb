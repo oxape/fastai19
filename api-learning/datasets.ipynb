{
 "cells": [
  {
   "cell_type": "code",
   "execution_count": 1,
   "metadata": {},
   "outputs": [],
   "source": [
    "import os\n",
    "from torch.utils.data import Dataset\n",
    "\n",
    "#https://syaffers.xyz/#datasets\n",
    "\n",
    "class TESNamesDataset(Dataset):\n",
    "    def __init__(self, data_root):\n",
    "        self.samples = []\n",
    "\n",
    "        for race in os.listdir(data_root):\n",
    "            race_folder = os.path.join(data_root, race)\n",
    "            if os.path.isdir(race_folder):\n",
    "                for gender in os.listdir(race_folder):\n",
    "                    gender_filepath = os.path.join(race_folder, gender)\n",
    "                    with open(gender_filepath, 'r') as gender_file:\n",
    "                        for name in gender_file.read().splitlines():\n",
    "                            self.samples.append((race, gender, name))\n",
    "\n",
    "    def __len__(self):\n",
    "        return len(self.samples)\n",
    "\n",
    "    def __getitem__(self, idx):\n",
    "        return self.samples[idx]"
   ]
  },
  {
   "cell_type": "code",
   "execution_count": 2,
   "metadata": {},
   "outputs": [
    {
     "name": "stdout",
     "output_type": "stream",
     "text": [
      "19491\n",
      "('Redguard', 'Male', 'Jireq')\n"
     ]
    }
   ],
   "source": [
    "dataset = TESNamesDataset('../../data/tes-names/')\n",
    "print(len(dataset))\n",
    "print(dataset[420])"
   ]
  },
  {
   "cell_type": "code",
   "execution_count": 3,
   "metadata": {},
   "outputs": [
    {
     "name": "stdout",
     "output_type": "stream",
     "text": [
      "[('Redguard', 'Male', 'Abir'), ('Redguard', 'Male', 'Abnajah'), ('Redguard', 'Male', 'Abradun'), ('Redguard', 'Male', 'Abri'), ('Redguard', 'Male', 'Abrunul'), ('Redguard', 'Male', 'Achel'), ('Redguard', 'Male', 'Achelir'), ('Redguard', 'Male', 'Adajan'), ('Redguard', 'Male', 'Adal'), ('Redguard', 'Male', 'Adar'), ('Redguard', 'Male', 'Adenar'), ('Redguard', 'Male', 'Adit'), ('Redguard', 'Male', 'Admunayil'), ('Redguard', 'Male', 'Adrazan'), ('Redguard', 'Male', 'Adruzan'), ('Redguard', 'Male', 'Afa-Saryat'), ('Redguard', 'Male', 'Afelir'), ('Redguard', 'Male', 'Afshar'), ('Redguard', 'Male', 'Afwa'), ('Redguard', 'Male', 'Agalir'), ('Redguard', 'Male', 'Agha'), ('Redguard', 'Male', 'Ahad'), ('Redguard', 'Male', 'Ahdan'), ('Redguard', 'Male', 'Ahiza'), ('Redguard', 'Male', 'Ahmadduh'), ('Redguard', 'Male', 'Ahmaron'), ('Redguard', 'Male', 'Ahmat'), ('Redguard', 'Male', 'Ahmih'), ('Redguard', 'Male', 'Ahobi'), ('Redguard', 'Male', 'Ahram'), ('Redguard', 'Male', 'Ahtar'), ('Redguard', 'Male', 'Ahuziq'), ('Redguard', 'Male', 'Aizar'), ('Redguard', 'Male', 'Akamon'), ('Redguard', 'Male', 'Akhbar'), ('Redguard', 'Male', 'Alahir'), ('Redguard', 'Male', 'Alasan'), ('Redguard', 'Male', 'Alburz'), ('Redguard', 'Male', 'Alesan'), ('Redguard', 'Male', 'Algredhen'), ('Redguard', 'Male', 'Alkar'), ('Redguard', 'Male', 'Almur'), ('Redguard', 'Male', 'Alonzo'), ('Redguard', 'Male', 'Alqadarun'), ('Redguard', 'Male', 'Alqar'), ('Redguard', 'Male', 'Alusaron'), ('Redguard', 'Male', 'Amahnin'), ('Redguard', 'Male', 'Amal'), ('Redguard', 'Male', 'Amarz'), ('Redguard', 'Male', 'Amir')]\n"
     ]
    }
   ],
   "source": [
    "print(dataset[10:60])"
   ]
  },
  {
   "cell_type": "code",
   "execution_count": 4,
   "metadata": {},
   "outputs": [],
   "source": [
    "from torch.utils.data import DataLoader\n",
    "dataset = TESNamesDataset('../../data/tes-names/')\n",
    "dataloader = DataLoader(dataset, batch_size=4, shuffle=True, num_workers=2)\n",
    "# for i, batch in enumerate(dataloader):\n",
    "#     print(i, batch)"
   ]
  },
  {
   "cell_type": "code",
   "execution_count": 5,
   "metadata": {},
   "outputs": [
    {
     "name": "stdout",
     "output_type": "stream",
     "text": [
      "(0, [('Altmer', 'Argonian', 'Dunmer', 'Altmer'), ('Male', 'Male', 'Male', 'Female'), ('Carecalmo', 'Okan-Sakka', 'Ferasi', 'Nirite')])\n"
     ]
    }
   ],
   "source": [
    "print(next(enumerate(dataloader)))"
   ]
  },
  {
   "cell_type": "code",
   "execution_count": 6,
   "metadata": {},
   "outputs": [
    {
     "name": "stdout",
     "output_type": "stream",
     "text": [
      "[('Breton', 'Dunmer', 'Altmer', 'Nord'), ('Male', 'Female', 'Male', 'Male'), ('Rodyctor', 'Tamira', 'Tarmultur', 'Kadstig')]\n"
     ]
    }
   ],
   "source": [
    "print(next(iter(dataloader)))"
   ]
  },
  {
   "cell_type": "code",
   "execution_count": null,
   "metadata": {},
   "outputs": [],
   "source": []
  }
 ],
 "metadata": {
  "kernelspec": {
   "display_name": "Python 3",
   "language": "python",
   "name": "python3"
  },
  "language_info": {
   "codemirror_mode": {
    "name": "ipython",
    "version": 3
   },
   "file_extension": ".py",
   "mimetype": "text/x-python",
   "name": "python",
   "nbconvert_exporter": "python",
   "pygments_lexer": "ipython3",
   "version": "3.7.7"
  }
 },
 "nbformat": 4,
 "nbformat_minor": 4
}
