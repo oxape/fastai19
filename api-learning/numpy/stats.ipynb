{
 "cells": [
  {
   "cell_type": "code",
   "execution_count": 2,
   "metadata": {},
   "outputs": [],
   "source": [
    "import numpy as np"
   ]
  },
  {
   "cell_type": "code",
   "execution_count": 88,
   "metadata": {},
   "outputs": [],
   "source": [
    "a = np.array([\n",
    "    [[1, 1, 1, 1], \n",
    "    [2, 2, 2, 2],\n",
    "    [3, 3, 3, 3]],\n",
    "    \n",
    "    [[4, 4, 4, 4], \n",
    "    [5, 5, 5, 5],\n",
    "    [6, 6, 6, 6]]\n",
    "])"
   ]
  },
  {
   "cell_type": "code",
   "execution_count": 89,
   "metadata": {},
   "outputs": [
    {
     "data": {
      "text/plain": [
       "(2, 3, 4)"
      ]
     },
     "execution_count": 89,
     "metadata": {},
     "output_type": "execute_result"
    }
   ],
   "source": [
    "a.shape"
   ]
  },
  {
   "cell_type": "code",
   "execution_count": 90,
   "metadata": {},
   "outputs": [
    {
     "data": {
      "text/plain": [
       "array([[2.5, 2.5, 2.5, 2.5],\n",
       "       [3.5, 3.5, 3.5, 3.5],\n",
       "       [4.5, 4.5, 4.5, 4.5]])"
      ]
     },
     "execution_count": 90,
     "metadata": {},
     "output_type": "execute_result"
    }
   ],
   "source": [
    "a.mean(axis = 0)"
   ]
  },
  {
   "cell_type": "code",
   "execution_count": 91,
   "metadata": {},
   "outputs": [
    {
     "data": {
      "text/plain": [
       "array([[2., 2., 2., 2.],\n",
       "       [5., 5., 5., 5.]])"
      ]
     },
     "execution_count": 91,
     "metadata": {},
     "output_type": "execute_result"
    }
   ],
   "source": [
    "a.mean(axis = 1)"
   ]
  },
  {
   "cell_type": "code",
   "execution_count": 96,
   "metadata": {},
   "outputs": [
    {
     "data": {
      "text/plain": [
       "array([2.5, 3.5, 4.5])"
      ]
     },
     "execution_count": 96,
     "metadata": {},
     "output_type": "execute_result"
    }
   ],
   "source": [
    "a.mean(axis = (0, 2))"
   ]
  },
  {
   "cell_type": "code",
   "execution_count": 93,
   "metadata": {},
   "outputs": [
    {
     "data": {
      "text/plain": [
       "array([3.5, 3.5, 3.5, 3.5])"
      ]
     },
     "execution_count": 93,
     "metadata": {},
     "output_type": "execute_result"
    }
   ],
   "source": [
    "a.mean(axis = (0, 1))"
   ]
  },
  {
   "cell_type": "code",
   "execution_count": 94,
   "metadata": {},
   "outputs": [
    {
     "data": {
      "text/plain": [
       "array([2., 5.])"
      ]
     },
     "execution_count": 94,
     "metadata": {},
     "output_type": "execute_result"
    }
   ],
   "source": [
    "a.mean(axis = (1, 2))"
   ]
  },
  {
   "cell_type": "markdown",
   "metadata": {},
   "source": [
    "# 总结\n",
    "\n",
    "## axis = 0 \n",
    "结果为shape = (3, 4) 沿着0轴 \n",
    "<br/>\n",
    "(0, 0, 0), (1, 0, 0)作为(3, 4)位置(0, 0)的元素\n",
    "<br/>\n",
    "(0, 2, 3), (1, 2, 3)作为(3, 4)位置(2, 3)的元素\n",
    "<br/>\n",
    "## axis = (0, 2)\n",
    "结果为shape = (3,) 沿着0轴和2轴 \n",
    "<br/>\n",
    "(0, 0, 0), (0, 0, 1), (0, 0, 2), (0, 0, 3)  (1, 0, 0), (1, 0, 1), (1, 0, 2), (1, 0, 3)作为(3, )位置(0, )的元素\n",
    "<br/>\n",
    "(0, 2, 0), (0, 2, 1), (0, 2, 2), (0, 2, 3)  (1, 2, 0), (1, 2, 1), (1, 2, 2), (1, 2, 3)作为(3, )位置(2, )的元素\n",
    "<br/>\n",
    "## axis = (1, 2)\n",
    "结果为shape = (2,) 沿着1轴和2轴 \n",
    "<br/>\n",
    "(0, 0, 0), (0, 0, 1), (0, 0, 2), (0, 0, 3)\n",
    "<br/>\n",
    "(0, 1, 0), (0, 1, 1), (0, 1, 2), (0, 1, 3)\n",
    "<br/>\n",
    "(0, 2, 0), (0, 2, 1), (0, 2, 2), (0, 2, 3)\n",
    "<br/>\n",
    "作为(3, )位置(0, )的元素\n",
    "<br/>\n",
    "(1, 0, 0), (1, 0, 1), (1, 0, 2), (1, 0, 3)\n",
    "<br/>\n",
    "(1, 1, 0), (1, 1, 1), (1, 1, 2), (1, 1, 3)\n",
    "<br/>\n",
    "(1, 2, 0), (1, 2, 1), (1, 2, 2), (1, 2, 3)\n",
    "<br/>\n",
    "作为(3, )位置(1, )的元素\n",
    "<br/>"
   ]
  },
  {
   "cell_type": "code",
   "execution_count": null,
   "metadata": {},
   "outputs": [],
   "source": []
  }
 ],
 "metadata": {
  "kernelspec": {
   "display_name": "Python 3",
   "language": "python",
   "name": "python3"
  },
  "language_info": {
   "codemirror_mode": {
    "name": "ipython",
    "version": 3
   },
   "file_extension": ".py",
   "mimetype": "text/x-python",
   "name": "python",
   "nbconvert_exporter": "python",
   "pygments_lexer": "ipython3",
   "version": "3.7.7"
  }
 },
 "nbformat": 4,
 "nbformat_minor": 4
}
