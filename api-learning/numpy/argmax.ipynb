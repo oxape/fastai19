{
 "cells": [
  {
   "cell_type": "code",
   "execution_count": 1,
   "metadata": {},
   "outputs": [],
   "source": [
    "import numpy as np"
   ]
  },
  {
   "cell_type": "code",
   "execution_count": 2,
   "metadata": {},
   "outputs": [],
   "source": [
    "a = np.arange(24).reshape(2, 3, 4) + 1"
   ]
  },
  {
   "cell_type": "code",
   "execution_count": 3,
   "metadata": {},
   "outputs": [
    {
     "data": {
      "text/plain": [
       "array([[[ 1,  2,  3,  4],\n",
       "        [ 5,  6,  7,  8],\n",
       "        [ 9, 10, 11, 12]],\n",
       "\n",
       "       [[13, 14, 15, 16],\n",
       "        [17, 18, 19, 20],\n",
       "        [21, 22, 23, 24]]])"
      ]
     },
     "execution_count": 3,
     "metadata": {},
     "output_type": "execute_result"
    }
   ],
   "source": [
    "a"
   ]
  },
  {
   "cell_type": "code",
   "execution_count": 4,
   "metadata": {},
   "outputs": [
    {
     "data": {
      "text/plain": [
       "array([[1, 1, 1, 1],\n",
       "       [1, 1, 1, 1],\n",
       "       [1, 1, 1, 1]])"
      ]
     },
     "execution_count": 4,
     "metadata": {},
     "output_type": "execute_result"
    }
   ],
   "source": [
    "a.argmax(axis=0)"
   ]
  },
  {
   "cell_type": "code",
   "execution_count": 5,
   "metadata": {},
   "outputs": [
    {
     "data": {
      "text/plain": [
       "array([[2, 2, 2, 2],\n",
       "       [2, 2, 2, 2]])"
      ]
     },
     "execution_count": 5,
     "metadata": {},
     "output_type": "execute_result"
    }
   ],
   "source": [
    "a.argmax(axis=1)"
   ]
  },
  {
   "cell_type": "code",
   "execution_count": 6,
   "metadata": {},
   "outputs": [
    {
     "data": {
      "text/plain": [
       "array([[3, 3, 3],\n",
       "       [3, 3, 3]])"
      ]
     },
     "execution_count": 6,
     "metadata": {},
     "output_type": "execute_result"
    }
   ],
   "source": [
    "a.argmax(axis=2)"
   ]
  },
  {
   "cell_type": "markdown",
   "metadata": {},
   "source": [
    "# 总结\n",
    "argmax官方简介是Returns the indices of the maximum values along an axis.\n",
    "<br/>理解中的axis的作用：\n",
    "<br/>\n",
    "<br/>原张量(2, 3, 4)\n",
    "<br/>一.\n",
    "<br/>axis = 0\n",
    "<br/>(2, 3, 4) -> (3, 4)\n",
    "<br/>axis = 1\n",
    "<br/>(2, 3, 4) -> (2, 4)\n",
    "<br/>axis = 2\n",
    "<br/>(2, 3, 4) -> (2, 3)\n",
    "<br/>二.\n",
    "<br/>axis = 0\n",
    "<br/>沿着dim 0挨个比较元素(0, 0, 0)和(1, 0, 0)作为(3, 4)的(0, 0)位置的元素，最大index = 1(<2)\n",
    "<br/>沿着dim 0挨个比较元素(0, 0, 1)和(1, 0, 1)作为(3, 4)的(0, 1)位置的元素\n",
    "<br/>以此类推，沿着dim 0挨个比较元素 (0, 2, 3)和(1, 2, 3)比较作为(3, 4)的(2, 3)位置的元素\n",
    "<br/>axis = 1\n",
    "<br/>沿着dim 1挨个比较元素(0, 0, 0)，(0, 1, 0)和(0, 2, 0)作为(2, 4)的(0, 0)位置的元素\n",
    "<br/>沿着dim 1挨个比较元素(0, 0, 1)，(0, 1, 1)和(0, 2, 1)作为(2, 4)的(0, 1)位置的元素\n",
    "<br/>以此类推，沿着dim 1挨个比较元素(1, 0, 3)，(1, 1, 3)和(1, 2, 3)作为(2, 4)的(1, 3)位置的元素\n",
    "<br/>axis = 2\n",
    "<br/>沿着dim 2挨个比较元素(0, 0, 0)，(0, 0, 1)，(0, 0, 2)和(0, 0, 3)作为(2, 3)的(0, 0)位置的元素\n",
    "<br/>沿着dim 2挨个比较元素(0, 1, 0)，(0, 1, 1)，(0, 1, 2)和(0, 1, 3)作为(2, 3)的(0, 1)位置的元素\n",
    "<br/>以此类推，沿着dim 2挨个比较元素(0, 1, 0)，(0, 1, 1)，(0, 1, 2)和(0, 1, 3)作为(2, 3)的(0, 1)位置的元素"
   ]
  },
  {
   "cell_type": "code",
   "execution_count": null,
   "metadata": {},
   "outputs": [],
   "source": []
  }
 ],
 "metadata": {
  "kernelspec": {
   "display_name": "Python 3",
   "language": "python",
   "name": "python3"
  },
  "language_info": {
   "codemirror_mode": {
    "name": "ipython",
    "version": 3
   },
   "file_extension": ".py",
   "mimetype": "text/x-python",
   "name": "python",
   "nbconvert_exporter": "python",
   "pygments_lexer": "ipython3",
   "version": "3.7.7"
  }
 },
 "nbformat": 4,
 "nbformat_minor": 4
}
