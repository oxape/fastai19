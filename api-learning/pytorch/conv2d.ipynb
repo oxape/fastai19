{
 "cells": [
  {
   "cell_type": "code",
   "execution_count": 1,
   "metadata": {},
   "outputs": [],
   "source": [
    "import torch"
   ]
  },
  {
   "cell_type": "code",
   "execution_count": 2,
   "metadata": {},
   "outputs": [],
   "source": [
    "input=torch.ones(1,2,5,5)\n",
    "x=torch.nn.Conv2d(in_channels=2,out_channels=4,kernel_size=3)\n",
    "out=x(input)"
   ]
  },
  {
   "cell_type": "code",
   "execution_count": 3,
   "metadata": {},
   "outputs": [
    {
     "name": "stdout",
     "output_type": "stream",
     "text": [
      "<class 'torch.Tensor'>\n"
     ]
    }
   ],
   "source": [
    "print(type(input))"
   ]
  },
  {
   "cell_type": "code",
   "execution_count": 4,
   "metadata": {},
   "outputs": [
    {
     "name": "stdout",
     "output_type": "stream",
     "text": [
      "torch.Size([1, 4, 3, 3])\n",
      "tensor([[[[ 0.2657,  0.2657,  0.2657],\n",
      "          [ 0.2657,  0.2657,  0.2657],\n",
      "          [ 0.2657,  0.2657,  0.2657]],\n",
      "\n",
      "         [[-0.8598, -0.8598, -0.8598],\n",
      "          [-0.8598, -0.8598, -0.8598],\n",
      "          [-0.8598, -0.8598, -0.8598]],\n",
      "\n",
      "         [[ 0.0128,  0.0128,  0.0128],\n",
      "          [ 0.0128,  0.0128,  0.0128],\n",
      "          [ 0.0128,  0.0128,  0.0128]],\n",
      "\n",
      "         [[-0.8856, -0.8856, -0.8856],\n",
      "          [-0.8856, -0.8856, -0.8856],\n",
      "          [-0.8856, -0.8856, -0.8856]]]], grad_fn=<MkldnnConvolutionBackward>)\n"
     ]
    }
   ],
   "source": [
    "print(out.shape)\n",
    "print(out)"
   ]
  },
  {
   "cell_type": "code",
   "execution_count": 5,
   "metadata": {},
   "outputs": [
    {
     "name": "stdout",
     "output_type": "stream",
     "text": [
      "[Parameter containing:\n",
      "tensor([[[[-0.1530,  0.0020,  0.1860],\n",
      "          [ 0.1060,  0.2116,  0.1302],\n",
      "          [-0.0214, -0.0192,  0.0017]],\n",
      "\n",
      "         [[ 0.1208, -0.1513, -0.0502],\n",
      "          [-0.0524,  0.0978, -0.1303],\n",
      "          [ 0.0646,  0.1944, -0.1220]]],\n",
      "\n",
      "\n",
      "        [[[-0.2081, -0.1980, -0.1890],\n",
      "          [ 0.1397, -0.1410,  0.0251],\n",
      "          [-0.0894,  0.1998,  0.0324]],\n",
      "\n",
      "         [[ 0.0042, -0.2075, -0.1768],\n",
      "          [ 0.0535, -0.0722,  0.0842],\n",
      "          [-0.1033, -0.0150,  0.1452]]],\n",
      "\n",
      "\n",
      "        [[[-0.1913, -0.0966, -0.2299],\n",
      "          [ 0.0835,  0.2328,  0.0259],\n",
      "          [-0.1951,  0.0256, -0.0300]],\n",
      "\n",
      "         [[-0.1365,  0.1834, -0.2245],\n",
      "          [ 0.1373,  0.1387,  0.0431],\n",
      "          [ 0.1252,  0.0810,  0.2213]]],\n",
      "\n",
      "\n",
      "        [[[-0.2113,  0.0624, -0.1990],\n",
      "          [ 0.2232, -0.1437,  0.0341],\n",
      "          [-0.1883,  0.0357, -0.0261]],\n",
      "\n",
      "         [[-0.2302, -0.1782, -0.1783],\n",
      "          [ 0.2213, -0.1560, -0.0090],\n",
      "          [ 0.1517, -0.0141, -0.1799]]]], requires_grad=True), Parameter containing:\n",
      "tensor([-0.1498, -0.1437, -0.1811,  0.1002], requires_grad=True)]\n"
     ]
    }
   ],
   "source": [
    "print(list(x.parameters()))"
   ]
  },
  {
   "cell_type": "code",
   "execution_count": 6,
   "metadata": {},
   "outputs": [
    {
     "data": {
      "text/plain": [
       "torch.Size([4, 2, 3, 3])"
      ]
     },
     "execution_count": 6,
     "metadata": {},
     "output_type": "execute_result"
    }
   ],
   "source": [
    "f_p=list(x.parameters())[0]\n",
    "f_p.shape"
   ]
  },
  {
   "cell_type": "code",
   "execution_count": 7,
   "metadata": {},
   "outputs": [
    {
     "data": {
      "text/plain": [
       "torch.Size([4])"
      ]
     },
     "execution_count": 7,
     "metadata": {},
     "output_type": "execute_result"
    }
   ],
   "source": [
    "bias=list(x.parameters())[1]\n",
    "bias.shape"
   ]
  },
  {
   "cell_type": "code",
   "execution_count": 8,
   "metadata": {},
   "outputs": [
    {
     "name": "stdout",
     "output_type": "stream",
     "text": [
      "the result of first channel in image: tensor(0.2657, grad_fn=<AddBackward0>)\n"
     ]
    }
   ],
   "source": [
    "print(\"the result of first channel in image:\", f_p[0].sum()+bias[0])"
   ]
  },
  {
   "cell_type": "code",
   "execution_count": 9,
   "metadata": {},
   "outputs": [
    {
     "name": "stdout",
     "output_type": "stream",
     "text": [
      "the result of first channel in image: tensor(-0.8856, grad_fn=<AddBackward0>)\n"
     ]
    }
   ],
   "source": [
    "print(\"the result of first channel in image:\", f_p[3].sum()+bias[3])"
   ]
  },
  {
   "cell_type": "code",
   "execution_count": 10,
   "metadata": {},
   "outputs": [],
   "source": [
    "x=torch.nn.Conv2d(in_channels=64,out_channels=64,kernel_size=3)"
   ]
  },
  {
   "cell_type": "code",
   "execution_count": 11,
   "metadata": {},
   "outputs": [
    {
     "data": {
      "text/plain": [
       "(torch.Size([64, 64, 3, 3]), torch.Size([64]))"
      ]
     },
     "execution_count": 11,
     "metadata": {},
     "output_type": "execute_result"
    }
   ],
   "source": [
    "list(x.parameters())[0].shape, list(x.parameters())[1].shape"
   ]
  }
 ],
 "metadata": {
  "kernelspec": {
   "display_name": "Python 3",
   "language": "python",
   "name": "python3"
  },
  "language_info": {
   "codemirror_mode": {
    "name": "ipython",
    "version": 3
   },
   "file_extension": ".py",
   "mimetype": "text/x-python",
   "name": "python",
   "nbconvert_exporter": "python",
   "pygments_lexer": "ipython3",
   "version": "3.7.7"
  }
 },
 "nbformat": 4,
 "nbformat_minor": 4
}
