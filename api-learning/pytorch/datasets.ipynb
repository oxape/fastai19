{
 "cells": [
  {
   "cell_type": "code",
   "execution_count": 7,
   "metadata": {},
   "outputs": [],
   "source": [
    "import os\n",
    "from torch.utils.data import Dataset\n",
    "from torch.utils.data import DataLoader"
   ]
  },
  {
   "cell_type": "code",
   "execution_count": 8,
   "metadata": {},
   "outputs": [],
   "source": [
    "#https://syaffers.xyz/#datasets\n",
    "\n",
    "class TESNamesDataset(Dataset):\n",
    "    def __init__(self, data_root):\n",
    "        self.samples = []\n",
    "\n",
    "        for race in os.listdir(data_root):\n",
    "            race_folder = os.path.join(data_root, race)\n",
    "            if os.path.isdir(race_folder):\n",
    "                for gender in os.listdir(race_folder):\n",
    "                    gender_filepath = os.path.join(race_folder, gender)\n",
    "                    with open(gender_filepath, 'r') as gender_file:\n",
    "                        for name in gender_file.read().splitlines():\n",
    "                            self.samples.append((race, gender, name))\n",
    "\n",
    "    def __len__(self):\n",
    "        return len(self.samples)\n",
    "\n",
    "    def __getitem__(self, idx):\n",
    "        return self.samples[idx]"
   ]
  },
  {
   "cell_type": "code",
   "execution_count": 9,
   "metadata": {},
   "outputs": [],
   "source": [
    "class TestDataset(Dataset):\n",
    "    def __init__(self):\n",
    "        pass\n",
    "        \n",
    "    def __len__(self):\n",
    "        return 64\n",
    "\n",
    "    def __getitem__(self, idx):\n",
    "        return (idx, idx)"
   ]
  },
  {
   "cell_type": "code",
   "execution_count": 20,
   "metadata": {},
   "outputs": [
    {
     "name": "stdout",
     "output_type": "stream",
     "text": [
      "[tensor([0, 1, 2, 3]), tensor([0, 1, 2, 3])]\n"
     ]
    }
   ],
   "source": [
    "dataset = TestDataset()\n",
    "dataloader = DataLoader(dataset, batch_size=4, shuffle=False, num_workers=0)\n",
    "print(next(iter(dataloader)))"
   ]
  },
  {
   "cell_type": "code",
   "execution_count": 21,
   "metadata": {},
   "outputs": [
    {
     "name": "stdout",
     "output_type": "stream",
     "text": [
      "19491\n",
      "('Redguard', 'Male', 'Jireq')\n"
     ]
    }
   ],
   "source": [
    "dataset = TESNamesDataset('../../data/tes-names/')\n",
    "print(len(dataset))\n",
    "print(dataset[420])"
   ]
  },
  {
   "cell_type": "code",
   "execution_count": 22,
   "metadata": {},
   "outputs": [
    {
     "name": "stdout",
     "output_type": "stream",
     "text": [
      "[('Redguard', 'Male', 'Abir'), ('Redguard', 'Male', 'Abnajah'), ('Redguard', 'Male', 'Abradun'), ('Redguard', 'Male', 'Abri'), ('Redguard', 'Male', 'Abrunul'), ('Redguard', 'Male', 'Achel'), ('Redguard', 'Male', 'Achelir'), ('Redguard', 'Male', 'Adajan'), ('Redguard', 'Male', 'Adal'), ('Redguard', 'Male', 'Adar')]\n"
     ]
    }
   ],
   "source": [
    "print(dataset[10:20])"
   ]
  },
  {
   "cell_type": "code",
   "execution_count": 23,
   "metadata": {},
   "outputs": [],
   "source": [
    "dataset = TESNamesDataset('../../data/tes-names/')\n",
    "dataloader = DataLoader(dataset, batch_size=4, shuffle=True, num_workers=2)\n",
    "# for i, batch in enumerate(dataloader):\n",
    "#     print(i, batch)"
   ]
  },
  {
   "cell_type": "code",
   "execution_count": 24,
   "metadata": {},
   "outputs": [
    {
     "name": "stdout",
     "output_type": "stream",
     "text": [
      "(0, [('Khajiit', 'Dunmer', 'Dunmer', 'Redguard'), ('Male', 'Female', 'Female', 'Female'), ('Sallunas', 'Golana', 'Angharal', 'Shuhasa')])\n"
     ]
    }
   ],
   "source": [
    "print(next(enumerate(dataloader)))"
   ]
  },
  {
   "cell_type": "code",
   "execution_count": 25,
   "metadata": {},
   "outputs": [
    {
     "name": "stdout",
     "output_type": "stream",
     "text": [
      "[('Breton', 'Imperial', 'Khajiit', 'Orc'), ('Male', 'Female', 'Male', 'Female'), ('Giorges', 'Naspia', \"Akh'bar\", 'Shagora')]\n"
     ]
    }
   ],
   "source": [
    "print(next(iter(dataloader)))"
   ]
  },
  {
   "cell_type": "code",
   "execution_count": null,
   "metadata": {},
   "outputs": [],
   "source": []
  }
 ],
 "metadata": {
  "kernelspec": {
   "display_name": "Python 3",
   "language": "python",
   "name": "python3"
  },
  "language_info": {
   "codemirror_mode": {
    "name": "ipython",
    "version": 3
   },
   "file_extension": ".py",
   "mimetype": "text/x-python",
   "name": "python",
   "nbconvert_exporter": "python",
   "pygments_lexer": "ipython3",
   "version": "3.7.7"
  }
 },
 "nbformat": 4,
 "nbformat_minor": 4
}
